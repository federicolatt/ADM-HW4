{
 "cells": [
  {
   "cell_type": "markdown",
   "metadata": {},
   "source": [
    "### **AQ (Algorithmic Question)**"
   ]
  },
  {
   "cell_type": "markdown",
   "metadata": {},
   "source": [
    "#### **a) Pseudocode:**\n",
    "\n",
    "\n",
    "**function aryaWins(nums)**<br>\n",
    "Given a list of integers, we want to see if Arya vs her opponent (both playing optimally), has at least one chance to win the game\n",
    "\n",
    "**Input:**\n",
    "- nums: an array of integers\n",
    "\n",
    "**Output:**\n",
    "- a boolean value that will be True if Arya can win, False otherwise\n",
    "\n",
    "**Algorithm:**\n",
    "\n",
    "    n = len(nums)\n",
    "    memo = matrix with shape [n][n] initialized to null to save intermediate results (We'll use memoization)\n",
    "    \n",
    "> **function maxScore(l, r)**<br>\n",
    "> Given the first and the last index of a sequence, compute the max score Arya con get\n",
    ">\n",
    "> **Input:**\n",
    "> - l: an integer, representing the far left index of the sequence\n",
    "> - r: an integer, representing the far right index of the sequence\n",
    ">       \n",
    "> **Output:**\n",
    "> - the max score Arya can get\n",
    ">\n",
    "> **Algorithm:**\n",
    ">    \n",
    ">       if the sequence is empty, return 0\n",
    ">       if memo[l][r] != null so already computed, return it\n",
    ">       \n",
    ">       Arya (1st player) selects the first or the last number.\n",
    ">       In both cases, we'll use min() to model the opponent's optimal way to play\n",
    ">       (his goal is to make a choice that minimizes in each case after his choice, the maximum score Arya can get from the remaining sequence)\n",
    ">       chooseLeft = nums[l] + min(maxScore(l+2, r), maxScore(l+1, r-1))  \n",
    ">       // (l+2, r): indices of the remaining sequence after the opponent has chosen the first (left) number\n",
    ">       // (l+1, r-1): indices of the remaining sequence after the opponent has chosen the last (right) number\n",
    ">       chooseRight = nums[r] + min(maxScore(l+1, r-1), maxScore(l, r-2))\n",
    ">       // same logic as above\n",
    ">       \n",
    ">       memo[l][r] = max(chooseLeft, chooseRight) \n",
    ">       return memo[l][r]\n",
    "    \n",
    "    total = sum(nums)\n",
    "    aryaScore = maxScore(0, n-1)\n",
    "    opponentScore = total-aryaScore\n",
    "    return aryaScore >= opponentScore\n",
    "\n",
    "\n"
   ]
  },
  {
   "cell_type": "markdown",
   "metadata": {},
   "source": [
    "#### **b) Python program:**"
   ]
  },
  {
   "cell_type": "code",
   "execution_count": null,
   "metadata": {},
   "outputs": [],
   "source": [
    "def aryaWins(nums):\n",
    "    \"\"\"Function that given a list of integers, show if Arya vs her opponent (both playing optimally), has at least one chance to win the game\n",
    "\n",
    "    Args:\n",
    "        nums (list): a list of integers\n",
    "\n",
    "    Returns:\n",
    "        aryaScore >= opponentScore (boolean): value that will be True if Arya can win, False otherwise\n",
    "    \"\"\"\n",
    "    n = len(nums)\n",
    "\n",
    "    # table to save intermediate results (I'll use memoization)\n",
    "    memo = [[None] * n for _ in range(n)]\n",
    "\n",
    "    def maxScore(l, r):\n",
    "        \"\"\"Recursive function to compute Arya's max possible score given the first and the last index of a sequence\n",
    "\n",
    "        Args:\n",
    "            l (int): left index, represent the first index of the array\n",
    "            r (int): right index, represent the last index of the array\n",
    "\n",
    "        Returns:\n",
    "            int: the max score Arya can get\n",
    "        \"\"\"\n",
    "        # base case: if l > r, the sequence is empty \n",
    "        if l>r:\n",
    "            return 0\n",
    "        # \"memoization case\": if has been already computed, use the stored result\n",
    "        if memo[l][r] is not None:\n",
    "            return memo[l][r]\n",
    "        # recursive case: if memo[l][r] is None, Arya (1st player) choose the first or the last number of the sequence\n",
    "        chooseLeft = nums[l] + min(maxScore(l+2, r), maxScore(l+1, r-1))\n",
    "        chooseRight = nums[r] + min(maxScore(l+1, r-1), maxScore(l, r-2))\n",
    "        memo[l][r] = max(chooseLeft, chooseRight)\n",
    "        return memo[l][r]\n",
    "\n",
    "    total = sum(nums)\n",
    "    aryaScore = maxScore(0, n-1)\n",
    "    opponentScore = total-aryaScore\n",
    "    return aryaScore >= opponentScore # if her score is >= the score of her opponent, Arya wins\n"
   ]
  },
  {
   "cell_type": "code",
   "execution_count": 26,
   "metadata": {},
   "outputs": [
    {
     "name": "stdout",
     "output_type": "stream",
     "text": [
      "Arya wins: False \t(Expected: False)\n",
      "Arya wins: True \t(Expected: True)\n",
      "Arya wins: True \t(Expected: True)\n",
      "Arya wins: False \t(Expected: False)\n"
     ]
    }
   ],
   "source": [
    "# test cases\n",
    "\n",
    "test_cases = [\n",
    "      ([1, 5, 2], False), \n",
    "      ([1, 5, 233, 7], True),\n",
    "      ([20, 30, 2, 2, 2, 10, 50, 1], True),\n",
    "      ([5, 3, 7, 10, 2, 9, 4, 6, 8], False)\n",
    "]\n",
    "\n",
    "for nums, expected in test_cases:\n",
    "      result = aryaWins(nums)\n",
    "      print(f\"Arya wins: {result} \\t(Expected: {expected})\")"
   ]
  },
  {
   "cell_type": "markdown",
   "metadata": {},
   "source": [
    "#### **c) Code's time complexity analysis:**"
   ]
  },
  {
   "cell_type": "markdown",
   "metadata": {},
   "source": [
    "The algorithm uses dynamic programming with memoization to calculate the maximum score Arya can achieve.\n",
    "Is efficient and operates in polynomial time:\n",
    "\n",
    "**Memoization:**<br>\n",
    "- The memoization table memo is used to store the results of subproblems to avoid redundant calculations.\n",
    "- The table has dimensions n x n, where n is the length of the input list nums.\n",
    "\n",
    "**Number of Subproblems:**<br>\n",
    "- There are O(n^2) possible subproblems, as each subproblem is defined by a pair of indices (l, r) where (0 $\\leq$ l $\\leq$ r < n).\n",
    "\n",
    "**Time per Subproblem:**<br>\n",
    "- For each subproblem (l, r), the algorithm works in constant time.\n",
    "\n",
    "**Asymptotic Time Complexity:**<br>\n",
    "- The total number of subproblems is O(n^2).\n",
    "- The time to solve each subproblem is O(1) due to memoization.\n",
    "- So, the overall time complexity of the algorithm is O(n^2)."
   ]
  },
  {
   "cell_type": "markdown",
   "metadata": {},
   "source": [
    "#### We skipped **d** and **e** points because the algorithm wasn't exponential "
   ]
  },
  {
   "cell_type": "markdown",
   "metadata": {},
   "source": [
    "#### **f) LLM evaluation:**"
   ]
  },
  {
   "cell_type": "markdown",
   "metadata": {},
   "source": [
    "**Optimized version of the algorithm**"
   ]
  },
  {
   "cell_type": "code",
   "execution_count": null,
   "metadata": {},
   "outputs": [],
   "source": [
    "def aryaWins(nums):\n",
    "    \"\"\"Function that returns True if Arya can win given an array of integers, False otherwise.\n",
    "\n",
    "    Args:\n",
    "        nums (list): List of integers.\n",
    "\n",
    "    Returns:\n",
    "        bool: True if Arya wins, False otherwise.\n",
    "    \"\"\"\n",
    "    n = len(nums)\n",
    "    if n == 0:\n",
    "        return False\n",
    "\n",
    "    # dp[i][j] will store the maximum score Arya can get from nums[i] to nums[j]\n",
    "    dp = [[0] * n for _ in range(n)]\n",
    "\n",
    "    # Base case: when the subarray has only one element\n",
    "    for i in range(n):\n",
    "        dp[i][i] = nums[i]\n",
    "\n",
    "    # Fill the table for subarrays of length 2 to n\n",
    "    for length in range(2, n+1):\n",
    "        for i in range(n-length+1):\n",
    "            j = i+length-1\n",
    "            # Arya chooses the left or right end and the opponent plays optimally\n",
    "            chooseLeft = nums[i] + min(dp[i+2][j] if i+2 <= j else 0, dp[i + 1][j-1] if i+1 <= j-1 else 0)\n",
    "            chooseRight = nums[j] + min(dp[i+1][j-1] if i+1 <= j-1 else 0, dp[i][j-2] if i <= j-2 else 0)\n",
    "            dp[i][j] = max(chooseLeft, chooseRight)\n",
    "\n",
    "    aryaScore = dp[0][n-1]\n",
    "    total = sum(nums)\n",
    "    opponentScore = total-aryaScore\n",
    "\n",
    "    return aryaScore >= opponentScore\n",
    "\n"
   ]
  },
  {
   "cell_type": "code",
   "execution_count": null,
   "metadata": {},
   "outputs": [
    {
     "name": "stdout",
     "output_type": "stream",
     "text": [
      "Arya wins: False \t(Expected: False)\n",
      "Arya wins: True \t(Expected: True)\n",
      "Arya wins: True \t(Expected: True)\n",
      "Arya wins: False \t(Expected: False)\n"
     ]
    }
   ],
   "source": [
    "# same test cases as above\n",
    "\n",
    "test_cases = [\n",
    "      ([1, 5, 2], False), \n",
    "      ([1, 5, 233, 7], True),\n",
    "      ([20, 30, 2, 2, 2, 10, 50, 1], True),\n",
    "      ([5, 3, 7, 10, 2, 9, 4, 6, 8], False)\n",
    "]\n",
    "\n",
    "for nums, expected in test_cases:\n",
    "      result = aryaWins(nums)\n",
    "      print(f\"Arya wins: {result} \\t(Expected: {expected})\")"
   ]
  },
  {
   "cell_type": "markdown",
   "metadata": {},
   "source": [
    "**Complexity analysis of the optimized version of the algorithm**"
   ]
  },
  {
   "cell_type": "markdown",
   "metadata": {},
   "source": [
    "**Dynamic Programming Table:**<br>\n",
    "- The dp table is used to store the maximum score Arya can get from nums[i] to nums[j] and the table has dimensions n x n.\n",
    "\n",
    "**Base Case:**<br>\n",
    "- When the subarray has only one element, dp[i][i] = nums[i].\n",
    "\n",
    "**Filling the Table:**<br>\n",
    "- The table is filled for subarrays of length 2 to n.\n",
    "- For each subarray (i, j), the algorithm computes chooseLeft and chooseRight and stores the maximum in dp[i][j].\n",
    "\n",
    "**Number of Subproblems:**<br>\n",
    "- There are O(n^2) possible subproblems, as each subproblem is defined by a pair of indices (i, j) where (0 $\\leq$ i $\\leq$ j < n).\n",
    "\n",
    "**Time per Subproblem:**<br>\n",
    "- For each subproblem (l, r), the algorithm works in constant time.\n",
    "\n",
    "So, the overall time complexity is O(n^2)\n",
    "\n",
    "Both solutions have the same overall time complexity of O(n^2) but the second solution (dynamic programming) is generally more straightforward and easier to understand because it avoids the overhead of recursive function calls and directly fills the dp table iteratively. This can also lead to better performance in practice due to reduced function call overhead."
   ]
  }
 ],
 "metadata": {
  "kernelspec": {
   "display_name": "ds",
   "language": "python",
   "name": "python3"
  },
  "language_info": {
   "codemirror_mode": {
    "name": "ipython",
    "version": 3
   },
   "file_extension": ".py",
   "mimetype": "text/x-python",
   "name": "python",
   "nbconvert_exporter": "python",
   "pygments_lexer": "ipython3",
   "version": "3.11.10"
  }
 },
 "nbformat": 4,
 "nbformat_minor": 2
}
