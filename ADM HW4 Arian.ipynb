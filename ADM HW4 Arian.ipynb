{
 "cells": [
  {
   "cell_type": "code",
   "execution_count": 1,
   "metadata": {},
   "outputs": [],
   "source": [
    "import pandas as pd\n",
    "import numpy as np\n",
    "import seaborn as sns\n",
    "from collections import Counter\n",
    "import matplotlib.pyplot as plt\n",
    "\n",
    "# Load the movies dataset\n",
    "movies_path = r\"C:\\Users\\Arian\\Desktop\\ADM HW4\\Dataset\\movie.csv\"\n",
    "movies = pd.read_csv(movies_path)\n",
    "\n",
    "# Load the user interactions dataset\n",
    "ratings_path = r\"C:\\Users\\Arian\\Desktop\\ADM HW4\\Dataset\\rating.csv\"\n",
    "ratings = pd.read_csv(ratings_path)"
   ]
  },
  {
   "cell_type": "code",
   "execution_count": 2,
   "metadata": {},
   "outputs": [
    {
     "data": {
      "text/plain": [
       "(27278, 3)"
      ]
     },
     "execution_count": 2,
     "metadata": {},
     "output_type": "execute_result"
    }
   ],
   "source": [
    "movies.shape"
   ]
  },
  {
   "cell_type": "code",
   "execution_count": 3,
   "metadata": {},
   "outputs": [
    {
     "data": {
      "text/plain": [
       "(20000263, 4)"
      ]
     },
     "execution_count": 3,
     "metadata": {},
     "output_type": "execute_result"
    }
   ],
   "source": [
    "ratings.shape"
   ]
  },
  {
   "cell_type": "code",
   "execution_count": 4,
   "metadata": {},
   "outputs": [
    {
     "data": {
      "text/html": [
       "<div>\n",
       "<style scoped>\n",
       "    .dataframe tbody tr th:only-of-type {\n",
       "        vertical-align: middle;\n",
       "    }\n",
       "\n",
       "    .dataframe tbody tr th {\n",
       "        vertical-align: top;\n",
       "    }\n",
       "\n",
       "    .dataframe thead th {\n",
       "        text-align: right;\n",
       "    }\n",
       "</style>\n",
       "<table border=\"1\" class=\"dataframe\">\n",
       "  <thead>\n",
       "    <tr style=\"text-align: right;\">\n",
       "      <th></th>\n",
       "      <th>movieId</th>\n",
       "      <th>title</th>\n",
       "      <th>genres</th>\n",
       "    </tr>\n",
       "  </thead>\n",
       "  <tbody>\n",
       "    <tr>\n",
       "      <th>0</th>\n",
       "      <td>1</td>\n",
       "      <td>Toy Story (1995)</td>\n",
       "      <td>Adventure|Animation|Children|Comedy|Fantasy</td>\n",
       "    </tr>\n",
       "    <tr>\n",
       "      <th>1</th>\n",
       "      <td>2</td>\n",
       "      <td>Jumanji (1995)</td>\n",
       "      <td>Adventure|Children|Fantasy</td>\n",
       "    </tr>\n",
       "    <tr>\n",
       "      <th>2</th>\n",
       "      <td>3</td>\n",
       "      <td>Grumpier Old Men (1995)</td>\n",
       "      <td>Comedy|Romance</td>\n",
       "    </tr>\n",
       "    <tr>\n",
       "      <th>3</th>\n",
       "      <td>4</td>\n",
       "      <td>Waiting to Exhale (1995)</td>\n",
       "      <td>Comedy|Drama|Romance</td>\n",
       "    </tr>\n",
       "    <tr>\n",
       "      <th>4</th>\n",
       "      <td>5</td>\n",
       "      <td>Father of the Bride Part II (1995)</td>\n",
       "      <td>Comedy</td>\n",
       "    </tr>\n",
       "    <tr>\n",
       "      <th>5</th>\n",
       "      <td>6</td>\n",
       "      <td>Heat (1995)</td>\n",
       "      <td>Action|Crime|Thriller</td>\n",
       "    </tr>\n",
       "    <tr>\n",
       "      <th>6</th>\n",
       "      <td>7</td>\n",
       "      <td>Sabrina (1995)</td>\n",
       "      <td>Comedy|Romance</td>\n",
       "    </tr>\n",
       "    <tr>\n",
       "      <th>7</th>\n",
       "      <td>8</td>\n",
       "      <td>Tom and Huck (1995)</td>\n",
       "      <td>Adventure|Children</td>\n",
       "    </tr>\n",
       "    <tr>\n",
       "      <th>8</th>\n",
       "      <td>9</td>\n",
       "      <td>Sudden Death (1995)</td>\n",
       "      <td>Action</td>\n",
       "    </tr>\n",
       "    <tr>\n",
       "      <th>9</th>\n",
       "      <td>10</td>\n",
       "      <td>GoldenEye (1995)</td>\n",
       "      <td>Action|Adventure|Thriller</td>\n",
       "    </tr>\n",
       "  </tbody>\n",
       "</table>\n",
       "</div>"
      ],
      "text/plain": [
       "   movieId                               title  \\\n",
       "0        1                    Toy Story (1995)   \n",
       "1        2                      Jumanji (1995)   \n",
       "2        3             Grumpier Old Men (1995)   \n",
       "3        4            Waiting to Exhale (1995)   \n",
       "4        5  Father of the Bride Part II (1995)   \n",
       "5        6                         Heat (1995)   \n",
       "6        7                      Sabrina (1995)   \n",
       "7        8                 Tom and Huck (1995)   \n",
       "8        9                 Sudden Death (1995)   \n",
       "9       10                    GoldenEye (1995)   \n",
       "\n",
       "                                        genres  \n",
       "0  Adventure|Animation|Children|Comedy|Fantasy  \n",
       "1                   Adventure|Children|Fantasy  \n",
       "2                               Comedy|Romance  \n",
       "3                         Comedy|Drama|Romance  \n",
       "4                                       Comedy  \n",
       "5                        Action|Crime|Thriller  \n",
       "6                               Comedy|Romance  \n",
       "7                           Adventure|Children  \n",
       "8                                       Action  \n",
       "9                    Action|Adventure|Thriller  "
      ]
     },
     "execution_count": 4,
     "metadata": {},
     "output_type": "execute_result"
    }
   ],
   "source": [
    "movies.head(10)"
   ]
  },
  {
   "cell_type": "code",
   "execution_count": 5,
   "metadata": {},
   "outputs": [
    {
     "data": {
      "text/html": [
       "<div>\n",
       "<style scoped>\n",
       "    .dataframe tbody tr th:only-of-type {\n",
       "        vertical-align: middle;\n",
       "    }\n",
       "\n",
       "    .dataframe tbody tr th {\n",
       "        vertical-align: top;\n",
       "    }\n",
       "\n",
       "    .dataframe thead th {\n",
       "        text-align: right;\n",
       "    }\n",
       "</style>\n",
       "<table border=\"1\" class=\"dataframe\">\n",
       "  <thead>\n",
       "    <tr style=\"text-align: right;\">\n",
       "      <th></th>\n",
       "      <th>userId</th>\n",
       "      <th>movieId</th>\n",
       "      <th>rating</th>\n",
       "      <th>timestamp</th>\n",
       "    </tr>\n",
       "  </thead>\n",
       "  <tbody>\n",
       "    <tr>\n",
       "      <th>0</th>\n",
       "      <td>1</td>\n",
       "      <td>2</td>\n",
       "      <td>3.5</td>\n",
       "      <td>2005-04-02 23:53:47</td>\n",
       "    </tr>\n",
       "    <tr>\n",
       "      <th>1</th>\n",
       "      <td>1</td>\n",
       "      <td>29</td>\n",
       "      <td>3.5</td>\n",
       "      <td>2005-04-02 23:31:16</td>\n",
       "    </tr>\n",
       "    <tr>\n",
       "      <th>2</th>\n",
       "      <td>1</td>\n",
       "      <td>32</td>\n",
       "      <td>3.5</td>\n",
       "      <td>2005-04-02 23:33:39</td>\n",
       "    </tr>\n",
       "    <tr>\n",
       "      <th>3</th>\n",
       "      <td>1</td>\n",
       "      <td>47</td>\n",
       "      <td>3.5</td>\n",
       "      <td>2005-04-02 23:32:07</td>\n",
       "    </tr>\n",
       "    <tr>\n",
       "      <th>4</th>\n",
       "      <td>1</td>\n",
       "      <td>50</td>\n",
       "      <td>3.5</td>\n",
       "      <td>2005-04-02 23:29:40</td>\n",
       "    </tr>\n",
       "    <tr>\n",
       "      <th>5</th>\n",
       "      <td>1</td>\n",
       "      <td>112</td>\n",
       "      <td>3.5</td>\n",
       "      <td>2004-09-10 03:09:00</td>\n",
       "    </tr>\n",
       "    <tr>\n",
       "      <th>6</th>\n",
       "      <td>1</td>\n",
       "      <td>151</td>\n",
       "      <td>4.0</td>\n",
       "      <td>2004-09-10 03:08:54</td>\n",
       "    </tr>\n",
       "    <tr>\n",
       "      <th>7</th>\n",
       "      <td>1</td>\n",
       "      <td>223</td>\n",
       "      <td>4.0</td>\n",
       "      <td>2005-04-02 23:46:13</td>\n",
       "    </tr>\n",
       "    <tr>\n",
       "      <th>8</th>\n",
       "      <td>1</td>\n",
       "      <td>253</td>\n",
       "      <td>4.0</td>\n",
       "      <td>2005-04-02 23:35:40</td>\n",
       "    </tr>\n",
       "    <tr>\n",
       "      <th>9</th>\n",
       "      <td>1</td>\n",
       "      <td>260</td>\n",
       "      <td>4.0</td>\n",
       "      <td>2005-04-02 23:33:46</td>\n",
       "    </tr>\n",
       "  </tbody>\n",
       "</table>\n",
       "</div>"
      ],
      "text/plain": [
       "   userId  movieId  rating            timestamp\n",
       "0       1        2     3.5  2005-04-02 23:53:47\n",
       "1       1       29     3.5  2005-04-02 23:31:16\n",
       "2       1       32     3.5  2005-04-02 23:33:39\n",
       "3       1       47     3.5  2005-04-02 23:32:07\n",
       "4       1       50     3.5  2005-04-02 23:29:40\n",
       "5       1      112     3.5  2004-09-10 03:09:00\n",
       "6       1      151     4.0  2004-09-10 03:08:54\n",
       "7       1      223     4.0  2005-04-02 23:46:13\n",
       "8       1      253     4.0  2005-04-02 23:35:40\n",
       "9       1      260     4.0  2005-04-02 23:33:46"
      ]
     },
     "execution_count": 5,
     "metadata": {},
     "output_type": "execute_result"
    }
   ],
   "source": [
    "ratings.head(10)"
   ]
  },
  {
   "cell_type": "code",
   "execution_count": 6,
   "metadata": {},
   "outputs": [
    {
     "data": {
      "text/plain": [
       "userId       0\n",
       "movieId      0\n",
       "rating       0\n",
       "timestamp    0\n",
       "dtype: int64"
      ]
     },
     "execution_count": 6,
     "metadata": {},
     "output_type": "execute_result"
    }
   ],
   "source": [
    "ratings.isnull().sum()"
   ]
  },
  {
   "cell_type": "code",
   "execution_count": 7,
   "metadata": {},
   "outputs": [
    {
     "data": {
      "text/plain": [
       "movieId    0\n",
       "title      0\n",
       "genres     0\n",
       "dtype: int64"
      ]
     },
     "execution_count": 7,
     "metadata": {},
     "output_type": "execute_result"
    }
   ],
   "source": [
    "movies.isnull().sum()"
   ]
  },
  {
   "cell_type": "code",
   "execution_count": 8,
   "metadata": {},
   "outputs": [],
   "source": [
    "# Merge datasets on movieId\n",
    "df = pd.merge(ratings, movies, on=\"movieId\")"
   ]
  },
  {
   "cell_type": "code",
   "execution_count": 9,
   "metadata": {},
   "outputs": [
    {
     "data": {
      "text/html": [
       "<div>\n",
       "<style scoped>\n",
       "    .dataframe tbody tr th:only-of-type {\n",
       "        vertical-align: middle;\n",
       "    }\n",
       "\n",
       "    .dataframe tbody tr th {\n",
       "        vertical-align: top;\n",
       "    }\n",
       "\n",
       "    .dataframe thead th {\n",
       "        text-align: right;\n",
       "    }\n",
       "</style>\n",
       "<table border=\"1\" class=\"dataframe\">\n",
       "  <thead>\n",
       "    <tr style=\"text-align: right;\">\n",
       "      <th></th>\n",
       "      <th>userId</th>\n",
       "      <th>movieId</th>\n",
       "      <th>rating</th>\n",
       "      <th>timestamp</th>\n",
       "      <th>title</th>\n",
       "      <th>genres</th>\n",
       "    </tr>\n",
       "  </thead>\n",
       "  <tbody>\n",
       "    <tr>\n",
       "      <th>0</th>\n",
       "      <td>1</td>\n",
       "      <td>2</td>\n",
       "      <td>3.5</td>\n",
       "      <td>2005-04-02 23:53:47</td>\n",
       "      <td>Jumanji (1995)</td>\n",
       "      <td>Adventure|Children|Fantasy</td>\n",
       "    </tr>\n",
       "    <tr>\n",
       "      <th>1</th>\n",
       "      <td>1</td>\n",
       "      <td>29</td>\n",
       "      <td>3.5</td>\n",
       "      <td>2005-04-02 23:31:16</td>\n",
       "      <td>City of Lost Children, The (Cité des enfants p...</td>\n",
       "      <td>Adventure|Drama|Fantasy|Mystery|Sci-Fi</td>\n",
       "    </tr>\n",
       "    <tr>\n",
       "      <th>2</th>\n",
       "      <td>1</td>\n",
       "      <td>32</td>\n",
       "      <td>3.5</td>\n",
       "      <td>2005-04-02 23:33:39</td>\n",
       "      <td>Twelve Monkeys (a.k.a. 12 Monkeys) (1995)</td>\n",
       "      <td>Mystery|Sci-Fi|Thriller</td>\n",
       "    </tr>\n",
       "    <tr>\n",
       "      <th>3</th>\n",
       "      <td>1</td>\n",
       "      <td>47</td>\n",
       "      <td>3.5</td>\n",
       "      <td>2005-04-02 23:32:07</td>\n",
       "      <td>Seven (a.k.a. Se7en) (1995)</td>\n",
       "      <td>Mystery|Thriller</td>\n",
       "    </tr>\n",
       "    <tr>\n",
       "      <th>4</th>\n",
       "      <td>1</td>\n",
       "      <td>50</td>\n",
       "      <td>3.5</td>\n",
       "      <td>2005-04-02 23:29:40</td>\n",
       "      <td>Usual Suspects, The (1995)</td>\n",
       "      <td>Crime|Mystery|Thriller</td>\n",
       "    </tr>\n",
       "  </tbody>\n",
       "</table>\n",
       "</div>"
      ],
      "text/plain": [
       "   userId  movieId  rating            timestamp  \\\n",
       "0       1        2     3.5  2005-04-02 23:53:47   \n",
       "1       1       29     3.5  2005-04-02 23:31:16   \n",
       "2       1       32     3.5  2005-04-02 23:33:39   \n",
       "3       1       47     3.5  2005-04-02 23:32:07   \n",
       "4       1       50     3.5  2005-04-02 23:29:40   \n",
       "\n",
       "                                               title  \\\n",
       "0                                     Jumanji (1995)   \n",
       "1  City of Lost Children, The (Cité des enfants p...   \n",
       "2          Twelve Monkeys (a.k.a. 12 Monkeys) (1995)   \n",
       "3                        Seven (a.k.a. Se7en) (1995)   \n",
       "4                         Usual Suspects, The (1995)   \n",
       "\n",
       "                                   genres  \n",
       "0              Adventure|Children|Fantasy  \n",
       "1  Adventure|Drama|Fantasy|Mystery|Sci-Fi  \n",
       "2                 Mystery|Sci-Fi|Thriller  \n",
       "3                        Mystery|Thriller  \n",
       "4                  Crime|Mystery|Thriller  "
      ]
     },
     "execution_count": 9,
     "metadata": {},
     "output_type": "execute_result"
    }
   ],
   "source": [
    "df.head()"
   ]
  },
  {
   "cell_type": "code",
   "execution_count": 10,
   "metadata": {},
   "outputs": [
    {
     "data": {
      "text/html": [
       "<div>\n",
       "<style scoped>\n",
       "    .dataframe tbody tr th:only-of-type {\n",
       "        vertical-align: middle;\n",
       "    }\n",
       "\n",
       "    .dataframe tbody tr th {\n",
       "        vertical-align: top;\n",
       "    }\n",
       "\n",
       "    .dataframe thead th {\n",
       "        text-align: right;\n",
       "    }\n",
       "</style>\n",
       "<table border=\"1\" class=\"dataframe\">\n",
       "  <thead>\n",
       "    <tr style=\"text-align: right;\">\n",
       "      <th></th>\n",
       "      <th>userId</th>\n",
       "      <th>movieId</th>\n",
       "      <th>rating</th>\n",
       "      <th>timestamp</th>\n",
       "      <th>title</th>\n",
       "      <th>genres</th>\n",
       "    </tr>\n",
       "  </thead>\n",
       "  <tbody>\n",
       "    <tr>\n",
       "      <th>0</th>\n",
       "      <td>1</td>\n",
       "      <td>2</td>\n",
       "      <td>3.5</td>\n",
       "      <td>2005-04-02 23:53:47</td>\n",
       "      <td>Jumanji (1995)</td>\n",
       "      <td>[Adventure, Children, Fantasy]</td>\n",
       "    </tr>\n",
       "    <tr>\n",
       "      <th>1</th>\n",
       "      <td>1</td>\n",
       "      <td>29</td>\n",
       "      <td>3.5</td>\n",
       "      <td>2005-04-02 23:31:16</td>\n",
       "      <td>City of Lost Children, The (Cité des enfants p...</td>\n",
       "      <td>[Adventure, Drama, Fantasy, Mystery, Sci-Fi]</td>\n",
       "    </tr>\n",
       "    <tr>\n",
       "      <th>2</th>\n",
       "      <td>1</td>\n",
       "      <td>32</td>\n",
       "      <td>3.5</td>\n",
       "      <td>2005-04-02 23:33:39</td>\n",
       "      <td>Twelve Monkeys (a.k.a. 12 Monkeys) (1995)</td>\n",
       "      <td>[Mystery, Sci-Fi, Thriller]</td>\n",
       "    </tr>\n",
       "    <tr>\n",
       "      <th>3</th>\n",
       "      <td>1</td>\n",
       "      <td>47</td>\n",
       "      <td>3.5</td>\n",
       "      <td>2005-04-02 23:32:07</td>\n",
       "      <td>Seven (a.k.a. Se7en) (1995)</td>\n",
       "      <td>[Mystery, Thriller]</td>\n",
       "    </tr>\n",
       "    <tr>\n",
       "      <th>4</th>\n",
       "      <td>1</td>\n",
       "      <td>50</td>\n",
       "      <td>3.5</td>\n",
       "      <td>2005-04-02 23:29:40</td>\n",
       "      <td>Usual Suspects, The (1995)</td>\n",
       "      <td>[Crime, Mystery, Thriller]</td>\n",
       "    </tr>\n",
       "  </tbody>\n",
       "</table>\n",
       "</div>"
      ],
      "text/plain": [
       "   userId  movieId  rating            timestamp  \\\n",
       "0       1        2     3.5  2005-04-02 23:53:47   \n",
       "1       1       29     3.5  2005-04-02 23:31:16   \n",
       "2       1       32     3.5  2005-04-02 23:33:39   \n",
       "3       1       47     3.5  2005-04-02 23:32:07   \n",
       "4       1       50     3.5  2005-04-02 23:29:40   \n",
       "\n",
       "                                               title  \\\n",
       "0                                     Jumanji (1995)   \n",
       "1  City of Lost Children, The (Cité des enfants p...   \n",
       "2          Twelve Monkeys (a.k.a. 12 Monkeys) (1995)   \n",
       "3                        Seven (a.k.a. Se7en) (1995)   \n",
       "4                         Usual Suspects, The (1995)   \n",
       "\n",
       "                                         genres  \n",
       "0                [Adventure, Children, Fantasy]  \n",
       "1  [Adventure, Drama, Fantasy, Mystery, Sci-Fi]  \n",
       "2                   [Mystery, Sci-Fi, Thriller]  \n",
       "3                           [Mystery, Thriller]  \n",
       "4                    [Crime, Mystery, Thriller]  "
      ]
     },
     "execution_count": 10,
     "metadata": {},
     "output_type": "execute_result"
    }
   ],
   "source": [
    "# Split the genres column into a list of genres\n",
    "df['genres'] = df['genres'].str.split('|')\n",
    "\n",
    "# Display the updated dataframe\n",
    "df.head()"
   ]
  },
  {
   "cell_type": "code",
   "execution_count": 11,
   "metadata": {},
   "outputs": [],
   "source": [
    "df['timestamp'] = pd.to_datetime(df['timestamp'])"
   ]
  },
  {
   "cell_type": "code",
   "execution_count": 12,
   "metadata": {},
   "outputs": [
    {
     "data": {
      "image/png": "[encoded data removed]",
      "text/plain": [
       "<Figure size 640x480 with 1 Axes>"
      ]
     },
     "metadata": {},
     "output_type": "display_data"
    }
   ],
   "source": [
    "df['rating'].hist(bins=10)\n",
    "plt.title(\"Distribution of Ratings\")\n",
    "plt.xlabel(\"Rating\")\n",
    "plt.ylabel(\"Frequency\")\n",
    "plt.show()"
   ]
  },
  {
   "cell_type": "code",
   "execution_count": 13,
   "metadata": {},
   "outputs": [],
   "source": [
    "# Define MinHash function\n",
    "def minhash(movie_ids, num_hashes, prime=10007):\n",
    "    # Generate num_hashes hash functions (a * x + b) % prime\n",
    "    hashes = []\n",
    "    for i in range(num_hashes):\n",
    "        a, b = np.random.randint(1, prime, size=2)\n",
    "        hash_function = lambda x: (a * x + b) % prime\n",
    "        hashes.append(hash_function)\n",
    "    \n",
    "    # Calculate MinHash signature\n",
    "    signature = []\n",
    "    for h in hashes:\n",
    "        min_hash = min(h(movie_id) for movie_id in movie_ids)\n",
    "        signature.append(min_hash)\n",
    "    \n",
    "    return signature"
   ]
  },
  {
   "cell_type": "code",
   "execution_count": 15,
   "metadata": {},
   "outputs": [],
   "source": [
    "# Extract each user's rated movie list\n",
    "user_movie_dict = df.groupby('userId')['movieId'].apply(list).to_dict()"
   ]
  },
  {
   "cell_type": "code",
   "execution_count": 17,
   "metadata": {},
   "outputs": [],
   "source": [
    "# Generate MinHash signatures for all users\n",
    "num_hashes = 10  # Number of hash functions\n",
    "user_signatures = {user: minhash(movies, num_hashes) for user, movies in user_movie_dict.items()}"
   ]
  },
  {
   "cell_type": "code",
   "execution_count": 18,
   "metadata": {},
   "outputs": [
    {
     "name": "stdout",
     "output_type": "stream",
     "text": [
      "Sample MinHash Signatures:\n",
      "User 1: [30, 30, 30, 30, 30, 30, 30, 30, 30, 30]\n",
      "User 2: [478, 478, 478, 478, 478, 478, 478, 478, 478, 478]\n",
      "User 3: [16, 16, 16, 16, 16, 16, 16, 16, 16, 16]\n",
      "User 4: [214, 214, 214, 214, 214, 214, 214, 214, 214, 214]\n",
      "User 5: [60, 60, 60, 60, 60, 60, 60, 60, 60, 60]\n"
     ]
    }
   ],
   "source": [
    "# Display a few sample signatures\n",
    "sample_signatures = {user: sig for user, sig in list(user_signatures.items())[:5]}\n",
    "print(\"Sample MinHash Signatures:\")\n",
    "for user, sig in sample_signatures.items():\n",
    "    print(f\"User {user}: {sig}\")"
   ]
  },
  {
   "cell_type": "code",
   "execution_count": 20,
   "metadata": {},
   "outputs": [
    {
     "name": "stdout",
     "output_type": "stream",
     "text": [
      "     0    1    2    3    4    5    6    7    8    9\n",
      "1   30   30   30   30   30   30   30   30   30   30\n",
      "2  478  478  478  478  478  478  478  478  478  478\n",
      "3   16   16   16   16   16   16   16   16   16   16\n",
      "4  214  214  214  214  214  214  214  214  214  214\n",
      "5   60   60   60   60   60   60   60   60   60   60\n"
     ]
    }
   ],
   "source": [
    "# Save signatures for similarity calculation\n",
    "user_signatures_df = pd.DataFrame.from_dict(user_signatures, orient='index')\n",
    "print(user_signatures_df.head())  # Display the first few rows\n"
   ]
  },
  {
   "cell_type": "code",
   "execution_count": 21,
   "metadata": {},
   "outputs": [
    {
     "name": "stdout",
     "output_type": "stream",
     "text": [
      "Sample Buckets (first 5):\n",
      "Bucket (0, 8080): Users [1, 45, 256, 635, 638, 645, 1288, 1297, 1586, 2163, 2356, 2640, 3113, 3121, 3347, 3752, 3921, 4057, 4214, 4301, 4771, 5060, 5166, 5335, 5545, 5657, 5731, 5897, 6025, 6386, 6414, 6656, 6727, 6803, 6966, 7330, 7453, 7463, 7889, 7894, 8112, 8253, 8417, 8505, 8577, 8615, 8707, 8725, 8786, 8870, 9051, 9095, 9180, 9208, 9244, 9431, 9732, 9768, 9877, 9911, 9933, 9949, 10138, 10369, 10487, 10617, 10801, 11026, 11030, 11144, 11242, 11352, 11428, 11477, 11598, 11856, 11914, 12124, 12292, 12512, 12533, 12682, 13002, 13570, 13615, 13735, 13817, 14003, 14031, 14223, 14247, 14408, 14470, 14471, 14647, 14669, 14841, 14882, 14885, 14944, 15039, 15093, 15169, 15306, 15649, 15726, 15819, 15870, 15929, 16133, 16201, 16275, 16441, 16704, 16750, 16925, 16946, 17022, 17494, 17868, 17911, 17929, 17988, 18104, 18311, 18560, 18770, 19042, 19489, 19518, 19753, 19766, 19864, 19884, 20117, 20121, 20134, 20139, 20479, 20750, 20903, 21106, 21344, 21498, 21622, 21668, 21859, 21881, 22370, 22429, 22579, 22923, 23079, 23375, 23472, 23627, 23641, 23856, 23870, 23903, 24158, 24514, 24618, 24715, 25033, 25616, 25692, 25782, 25885, 25899, 25903, 26178, 26255, 26311, 26372, 26424, 26444, 26506, 26948, 27003, 27337, 27342, 27712, 27940, 27969, 27990, 28605, 28729, 28753, 28900, 28909, 28954, 28964, 29341, 29391, 29471, 29569, 29805, 30279, 30419, 30481, 30620, 30815, 30829, 31023, 31069, 31240, 31386, 31428, 31581, 32076, 32081, 32233, 33301, 33390, 33544, 33546, 33638, 33687, 34023, 34078, 34083, 34343, 34653, 35092, 35154, 35601, 35604, 35630, 35643, 35836, 35970, 36242, 36265, 36427, 36514, 36570, 36673, 36871, 36900, 36925, 37016, 37324, 37353, 37390, 37650, 37655, 37684, 37767, 37913, 38114, 38127, 38131, 38547, 38721, 38803, 38859, 38867, 38889, 38961, 39262, 39283, 39287, 39291, 39714, 39815, 39863, 39925, 40600, 40646, 40712, 40798, 41003, 41060, 41090, 41329, 41372, 42043, 42199, 42497, 42946, 43221, 43345, 43699, 43714, 43752, 43895, 44195, 44279, 44297, 45227, 45389, 45469, 45511, 45645, 45728, 45748, 46109, 46203, 46258, 46315, 46339, 46465, 46680, 46837, 46944, 47562, 47767, 47840, 47866, 47891, 48097, 48114, 48335, 49287, 49488, 49553, 49673, 49714, 49794, 49798, 49818, 49824, 49927, 50055, 50085, 50184, 50337, 50432, 50742, 51217, 51424, 51464, 51560, 51574, 51597, 51688, 51746, 51894, 51898, 51945, 52057, 52410, 53010, 53072, 53087, 53652, 53793, 53945, 54287, 55064, 55134, 55261, 55344, 55489, 55584, 55990, 56183, 56209, 56345, 56440, 56519, 56581, 56609, 56774, 56887, 57248, 57257, 57308, 57363, 57700, 57744, 57747, 58128, 58188, 58220, 58294, 58476, 58604, 58650, 58738, 59027, 59078, 59454, 59584, 60349, 60357, 60373, 60442, 60473, 60533, 60640, 60724, 60995, 61014, 61300, 61356, 61379, 61416, 61447, 61670, 61930, 63047, 63058, 63078, 63180, 63190, 63425, 64124, 64503, 64685, 64839, 64841, 65179, 65641, 65798, 65824, 66002, 66060, 66061, 66137, 66206, 66282, 66575, 66594, 67033, 67246, 67786, 68522, 69050, 69125, 69174, 69176, 69559, 69929, 70859, 71106, 71135, 71173, 71175, 71504, 71586, 71637, 71826, 71974, 72168, 72188, 72320, 72546, 72711, 72742, 73343, 73416, 73514, 73628, 73913, 74193, 74265, 74293, 74484, 74600, 74604, 74762, 75112, 75406, 75695, 75854, 76115, 76153, 76229, 76681, 76762, 76768, 76800, 76845, 77106, 77360, 77398, 77626, 77748, 78144, 78403, 78563, 78628, 78742, 78879, 78902, 79100, 79264, 79320, 79326, 79730, 79776, 79833, 81298, 81390, 81651, 81914, 81937, 82242, 82417, 82556, 82687, 82897, 83086, 83247, 83359, 83428, 83762, 83820, 83912, 84270, 84287, 84392, 84513, 84613, 85050, 85126, 85399, 85436, 85514, 85895, 85909, 85942, 86035, 86091, 86143, 86367, 86376, 86539, 86572, 86639, 86986, 86995, 87002, 87088, 87163, 87371, 87607, 87821, 87885, 87931, 88724, 88779, 88912, 89160, 89186, 89288, 89294, 89406, 89706, 89812, 89831, 89924, 90183, 90309, 90371, 90421, 90491, 90528, 91110, 91573, 91580, 91640, 91945, 92040, 92152, 92431, 92554, 92710, 92791, 92794, 92970, 93012, 93107, 93523, 93784, 93940, 94005, 94231, 94332, 94684, 94806, 94823, 95258, 95759, 95867, 96048, 96172, 96213, 96481, 96860, 96871, 96989, 97029, 97295, 97639, 97719, 97723, 97760, 97772, 97822, 98098, 98555, 98719, 98753, 98793, 98813, 98876, 99169, 99486, 99615, 100216, 100359, 100491, 100527, 100602, 100693, 100836, 100908, 101120, 101346, 101478, 101548, 101791, 101837, 102355, 102431, 102482, 102622, 102638, 103033, 103052, 103092, 103285, 103660, 103671, 103762, 103791, 103998, 104337, 104376, 104381, 104559, 104596, 104816, 104881, 105258, 105299, 105478, 105561, 105611, 105613, 105757, 105917, 105940, 106091, 106179, 106772, 106774, 106894, 107016, 107020, 107333, 107388, 107405, 107608, 107623, 108096, 108559, 108845, 108971, 109353, 109467, 109781, 109790, 109934, 109973, 110375, 110378, 110452, 110871, 110909, 110980, 111226, 111251, 111399, 111624, 111643, 111808, 112005, 112280, 112753, 113316, 113499, 113646, 113861, 114211, 114255, 114260, 114627, 114700, 114748, 114813, 114939, 115107, 115251, 115320, 115444, 115688, 116039, 116106, 116220, 116653, 117133, 117627, 117664, 117874, 117951, 118261, 118537, 118569, 118625, 118733, 119010, 119172, 119688, 119691, 119805, 119932, 119974, 120063, 120136, 120180, 120348, 120490, 120622, 120752, 120951, 121143, 121447, 121652, 121830, 121845, 121882, 122404, 122874, 123036, 123151, 124333, 124616, 124695, 124784, 124889, 124895, 124920, 125015, 125027, 125068, 125214, 125435, 125497, 125603, 125928, 125947, 125997, 126010, 126017, 126114, 126202, 126328, 127452, 127646, 127675, 127885, 127954, 128187, 128302, 128445, 129120, 129239, 129507, 129585, 129724, 129874, 130009, 130109, 130122, 130127, 130224, 130254, 130357, 130412, 130447, 130475, 130832, 131389, 131455, 132023, 132123, 132175, 132323, 132483, 132928, 132965, 132978, 133311, 133369, 133390, 133644, 133829, 134207, 134230, 134251, 134575, 135250, 135461, 135521, 135638, 136074, 136085, 136587, 136868, 136889, 137267, 137775, 138155, 138172, 138271, 138273, 138440]\n",
      "Bucket (1, 8080): Users [1, 45, 256, 635, 638, 645, 1288, 1297, 1586, 2163, 2356, 2640, 3113, 3121, 3347, 3752, 3921, 4057, 4214, 4301, 4771, 5060, 5166, 5335, 5545, 5657, 5731, 5897, 6025, 6386, 6414, 6656, 6727, 6803, 6966, 7330, 7453, 7463, 7889, 7894, 8112, 8253, 8417, 8505, 8577, 8615, 8707, 8725, 8786, 8870, 9051, 9095, 9180, 9208, 9244, 9431, 9732, 9768, 9877, 9911, 9933, 9949, 10138, 10369, 10487, 10617, 10801, 11026, 11030, 11144, 11242, 11352, 11428, 11477, 11598, 11856, 11914, 12124, 12292, 12512, 12533, 12682, 13002, 13570, 13615, 13735, 13817, 14003, 14031, 14223, 14247, 14408, 14470, 14471, 14647, 14669, 14841, 14882, 14885, 14944, 15039, 15093, 15169, 15306, 15649, 15726, 15819, 15870, 15929, 16133, 16201, 16275, 16441, 16704, 16750, 16925, 16946, 17022, 17494, 17868, 17911, 17929, 17988, 18104, 18311, 18560, 18770, 19042, 19489, 19518, 19753, 19766, 19864, 19884, 20117, 20121, 20134, 20139, 20479, 20750, 20903, 21106, 21344, 21498, 21622, 21668, 21859, 21881, 22370, 22429, 22579, 22923, 23079, 23375, 23472, 23627, 23641, 23856, 23870, 23903, 24158, 24514, 24618, 24715, 25033, 25616, 25692, 25782, 25885, 25899, 25903, 26178, 26255, 26311, 26372, 26424, 26444, 26506, 26948, 27003, 27337, 27342, 27712, 27940, 27969, 27990, 28605, 28729, 28753, 28900, 28909, 28954, 28964, 29341, 29391, 29471, 29569, 29805, 30279, 30419, 30481, 30620, 30815, 30829, 31023, 31069, 31240, 31386, 31428, 31581, 32076, 32081, 32233, 33301, 33390, 33544, 33546, 33638, 33687, 34023, 34078, 34083, 34343, 34653, 35092, 35154, 35601, 35604, 35630, 35643, 35836, 35970, 36242, 36265, 36427, 36514, 36570, 36673, 36871, 36900, 36925, 37016, 37324, 37353, 37390, 37650, 37655, 37684, 37767, 37913, 38114, 38127, 38131, 38547, 38721, 38803, 38859, 38867, 38889, 38961, 39262, 39283, 39287, 39291, 39714, 39815, 39863, 39925, 40600, 40646, 40712, 40798, 41003, 41060, 41090, 41329, 41372, 42043, 42199, 42497, 42946, 43221, 43345, 43699, 43714, 43752, 43895, 44195, 44279, 44297, 45227, 45389, 45469, 45511, 45645, 45728, 45748, 46109, 46203, 46258, 46315, 46339, 46465, 46680, 46837, 46944, 47562, 47767, 47840, 47866, 47891, 48097, 48114, 48335, 49287, 49488, 49553, 49673, 49714, 49794, 49798, 49818, 49824, 49927, 50055, 50085, 50184, 50337, 50432, 50742, 51217, 51424, 51464, 51560, 51574, 51597, 51688, 51746, 51894, 51898, 51945, 52057, 52410, 53010, 53072, 53087, 53652, 53793, 53945, 54287, 55064, 55134, 55261, 55344, 55489, 55584, 55990, 56183, 56209, 56345, 56440, 56519, 56581, 56609, 56774, 56887, 57248, 57257, 57308, 57363, 57700, 57744, 57747, 58128, 58188, 58220, 58294, 58476, 58604, 58650, 58738, 59027, 59078, 59454, 59584, 60349, 60357, 60373, 60442, 60473, 60533, 60640, 60724, 60995, 61014, 61300, 61356, 61379, 61416, 61447, 61670, 61930, 63047, 63058, 63078, 63180, 63190, 63425, 64124, 64503, 64685, 64839, 64841, 65179, 65641, 65798, 65824, 66002, 66060, 66061, 66137, 66206, 66282, 66575, 66594, 67033, 67246, 67786, 68522, 69050, 69125, 69174, 69176, 69559, 69929, 70859, 71106, 71135, 71173, 71175, 71504, 71586, 71637, 71826, 71974, 72168, 72188, 72320, 72546, 72711, 72742, 73343, 73416, 73514, 73628, 73913, 74193, 74265, 74293, 74484, 74600, 74604, 74762, 75112, 75406, 75695, 75854, 76115, 76153, 76229, 76681, 76762, 76768, 76800, 76845, 77106, 77360, 77398, 77626, 77748, 78144, 78403, 78563, 78628, 78742, 78879, 78902, 79100, 79264, 79320, 79326, 79730, 79776, 79833, 81298, 81390, 81651, 81914, 81937, 82242, 82417, 82556, 82687, 82897, 83086, 83247, 83359, 83428, 83762, 83820, 83912, 84270, 84287, 84392, 84513, 84613, 85050, 85126, 85399, 85436, 85514, 85895, 85909, 85942, 86035, 86091, 86143, 86367, 86376, 86539, 86572, 86639, 86986, 86995, 87002, 87088, 87163, 87371, 87607, 87821, 87885, 87931, 88724, 88779, 88912, 89160, 89186, 89288, 89294, 89406, 89706, 89812, 89831, 89924, 90183, 90309, 90371, 90421, 90491, 90528, 91110, 91573, 91580, 91640, 91945, 92040, 92152, 92431, 92554, 92710, 92791, 92794, 92970, 93012, 93107, 93523, 93784, 93940, 94005, 94231, 94332, 94684, 94806, 94823, 95258, 95759, 95867, 96048, 96172, 96213, 96481, 96860, 96871, 96989, 97029, 97295, 97639, 97719, 97723, 97760, 97772, 97822, 98098, 98555, 98719, 98753, 98793, 98813, 98876, 99169, 99486, 99615, 100216, 100359, 100491, 100527, 100602, 100693, 100836, 100908, 101120, 101346, 101478, 101548, 101791, 101837, 102355, 102431, 102482, 102622, 102638, 103033, 103052, 103092, 103285, 103660, 103671, 103762, 103791, 103998, 104337, 104376, 104381, 104559, 104596, 104816, 104881, 105258, 105299, 105478, 105561, 105611, 105613, 105757, 105917, 105940, 106091, 106179, 106772, 106774, 106894, 107016, 107020, 107333, 107388, 107405, 107608, 107623, 108096, 108559, 108845, 108971, 109353, 109467, 109781, 109790, 109934, 109973, 110375, 110378, 110452, 110871, 110909, 110980, 111226, 111251, 111399, 111624, 111643, 111808, 112005, 112280, 112753, 113316, 113499, 113646, 113861, 114211, 114255, 114260, 114627, 114700, 114748, 114813, 114939, 115107, 115251, 115320, 115444, 115688, 116039, 116106, 116220, 116653, 117133, 117627, 117664, 117874, 117951, 118261, 118537, 118569, 118625, 118733, 119010, 119172, 119688, 119691, 119805, 119932, 119974, 120063, 120136, 120180, 120348, 120490, 120622, 120752, 120951, 121143, 121447, 121652, 121830, 121845, 121882, 122404, 122874, 123036, 123151, 124333, 124616, 124695, 124784, 124889, 124895, 124920, 125015, 125027, 125068, 125214, 125435, 125497, 125603, 125928, 125947, 125997, 126010, 126017, 126114, 126202, 126328, 127452, 127646, 127675, 127885, 127954, 128187, 128302, 128445, 129120, 129239, 129507, 129585, 129724, 129874, 130009, 130109, 130122, 130127, 130224, 130254, 130357, 130412, 130447, 130475, 130832, 131389, 131455, 132023, 132123, 132175, 132323, 132483, 132928, 132965, 132978, 133311, 133369, 133390, 133644, 133829, 134207, 134230, 134251, 134575, 135250, 135461, 135521, 135638, 136074, 136085, 136587, 136868, 136889, 137267, 137775, 138155, 138172, 138271, 138273, 138440]\n",
      "Bucket (2, 8080): Users [1, 45, 256, 635, 638, 645, 1288, 1297, 1586, 2163, 2356, 2640, 3113, 3121, 3347, 3752, 3921, 4057, 4214, 4301, 4771, 5060, 5166, 5335, 5545, 5657, 5731, 5897, 6025, 6386, 6414, 6656, 6727, 6803, 6966, 7330, 7453, 7463, 7889, 7894, 8112, 8253, 8417, 8505, 8577, 8615, 8707, 8725, 8786, 8870, 9051, 9095, 9180, 9208, 9244, 9431, 9732, 9768, 9877, 9911, 9933, 9949, 10138, 10369, 10487, 10617, 10801, 11026, 11030, 11144, 11242, 11352, 11428, 11477, 11598, 11856, 11914, 12124, 12292, 12512, 12533, 12682, 13002, 13570, 13615, 13735, 13817, 14003, 14031, 14223, 14247, 14408, 14470, 14471, 14647, 14669, 14841, 14882, 14885, 14944, 15039, 15093, 15169, 15306, 15649, 15726, 15819, 15870, 15929, 16133, 16201, 16275, 16441, 16704, 16750, 16925, 16946, 17022, 17494, 17868, 17911, 17929, 17988, 18104, 18311, 18560, 18770, 19042, 19489, 19518, 19753, 19766, 19864, 19884, 20117, 20121, 20134, 20139, 20479, 20750, 20903, 21106, 21344, 21498, 21622, 21668, 21859, 21881, 22370, 22429, 22579, 22923, 23079, 23375, 23472, 23627, 23641, 23856, 23870, 23903, 24158, 24514, 24618, 24715, 25033, 25616, 25692, 25782, 25885, 25899, 25903, 26178, 26255, 26311, 26372, 26424, 26444, 26506, 26948, 27003, 27337, 27342, 27712, 27940, 27969, 27990, 28605, 28729, 28753, 28900, 28909, 28954, 28964, 29341, 29391, 29471, 29569, 29805, 30279, 30419, 30481, 30620, 30815, 30829, 31023, 31069, 31240, 31386, 31428, 31581, 32076, 32081, 32233, 33301, 33390, 33544, 33546, 33638, 33687, 34023, 34078, 34083, 34343, 34653, 35092, 35154, 35601, 35604, 35630, 35643, 35836, 35970, 36242, 36265, 36427, 36514, 36570, 36673, 36871, 36900, 36925, 37016, 37324, 37353, 37390, 37650, 37655, 37684, 37767, 37913, 38114, 38127, 38131, 38547, 38721, 38803, 38859, 38867, 38889, 38961, 39262, 39283, 39287, 39291, 39714, 39815, 39863, 39925, 40600, 40646, 40712, 40798, 41003, 41060, 41090, 41329, 41372, 42043, 42199, 42497, 42946, 43221, 43345, 43699, 43714, 43752, 43895, 44195, 44279, 44297, 45227, 45389, 45469, 45511, 45645, 45728, 45748, 46109, 46203, 46258, 46315, 46339, 46465, 46680, 46837, 46944, 47562, 47767, 47840, 47866, 47891, 48097, 48114, 48335, 49287, 49488, 49553, 49673, 49714, 49794, 49798, 49818, 49824, 49927, 50055, 50085, 50184, 50337, 50432, 50742, 51217, 51424, 51464, 51560, 51574, 51597, 51688, 51746, 51894, 51898, 51945, 52057, 52410, 53010, 53072, 53087, 53652, 53793, 53945, 54287, 55064, 55134, 55261, 55344, 55489, 55584, 55990, 56183, 56209, 56345, 56440, 56519, 56581, 56609, 56774, 56887, 57248, 57257, 57308, 57363, 57700, 57744, 57747, 58128, 58188, 58220, 58294, 58476, 58604, 58650, 58738, 59027, 59078, 59454, 59584, 60349, 60357, 60373, 60442, 60473, 60533, 60640, 60724, 60995, 61014, 61300, 61356, 61379, 61416, 61447, 61670, 61930, 63047, 63058, 63078, 63180, 63190, 63425, 64124, 64503, 64685, 64839, 64841, 65179, 65641, 65798, 65824, 66002, 66060, 66061, 66137, 66206, 66282, 66575, 66594, 67033, 67246, 67786, 68522, 69050, 69125, 69174, 69176, 69559, 69929, 70859, 71106, 71135, 71173, 71175, 71504, 71586, 71637, 71826, 71974, 72168, 72188, 72320, 72546, 72711, 72742, 73343, 73416, 73514, 73628, 73913, 74193, 74265, 74293, 74484, 74600, 74604, 74762, 75112, 75406, 75695, 75854, 76115, 76153, 76229, 76681, 76762, 76768, 76800, 76845, 77106, 77360, 77398, 77626, 77748, 78144, 78403, 78563, 78628, 78742, 78879, 78902, 79100, 79264, 79320, 79326, 79730, 79776, 79833, 81298, 81390, 81651, 81914, 81937, 82242, 82417, 82556, 82687, 82897, 83086, 83247, 83359, 83428, 83762, 83820, 83912, 84270, 84287, 84392, 84513, 84613, 85050, 85126, 85399, 85436, 85514, 85895, 85909, 85942, 86035, 86091, 86143, 86367, 86376, 86539, 86572, 86639, 86986, 86995, 87002, 87088, 87163, 87371, 87607, 87821, 87885, 87931, 88724, 88779, 88912, 89160, 89186, 89288, 89294, 89406, 89706, 89812, 89831, 89924, 90183, 90309, 90371, 90421, 90491, 90528, 91110, 91573, 91580, 91640, 91945, 92040, 92152, 92431, 92554, 92710, 92791, 92794, 92970, 93012, 93107, 93523, 93784, 93940, 94005, 94231, 94332, 94684, 94806, 94823, 95258, 95759, 95867, 96048, 96172, 96213, 96481, 96860, 96871, 96989, 97029, 97295, 97639, 97719, 97723, 97760, 97772, 97822, 98098, 98555, 98719, 98753, 98793, 98813, 98876, 99169, 99486, 99615, 100216, 100359, 100491, 100527, 100602, 100693, 100836, 100908, 101120, 101346, 101478, 101548, 101791, 101837, 102355, 102431, 102482, 102622, 102638, 103033, 103052, 103092, 103285, 103660, 103671, 103762, 103791, 103998, 104337, 104376, 104381, 104559, 104596, 104816, 104881, 105258, 105299, 105478, 105561, 105611, 105613, 105757, 105917, 105940, 106091, 106179, 106772, 106774, 106894, 107016, 107020, 107333, 107388, 107405, 107608, 107623, 108096, 108559, 108845, 108971, 109353, 109467, 109781, 109790, 109934, 109973, 110375, 110378, 110452, 110871, 110909, 110980, 111226, 111251, 111399, 111624, 111643, 111808, 112005, 112280, 112753, 113316, 113499, 113646, 113861, 114211, 114255, 114260, 114627, 114700, 114748, 114813, 114939, 115107, 115251, 115320, 115444, 115688, 116039, 116106, 116220, 116653, 117133, 117627, 117664, 117874, 117951, 118261, 118537, 118569, 118625, 118733, 119010, 119172, 119688, 119691, 119805, 119932, 119974, 120063, 120136, 120180, 120348, 120490, 120622, 120752, 120951, 121143, 121447, 121652, 121830, 121845, 121882, 122404, 122874, 123036, 123151, 124333, 124616, 124695, 124784, 124889, 124895, 124920, 125015, 125027, 125068, 125214, 125435, 125497, 125603, 125928, 125947, 125997, 126010, 126017, 126114, 126202, 126328, 127452, 127646, 127675, 127885, 127954, 128187, 128302, 128445, 129120, 129239, 129507, 129585, 129724, 129874, 130009, 130109, 130122, 130127, 130224, 130254, 130357, 130412, 130447, 130475, 130832, 131389, 131455, 132023, 132123, 132175, 132323, 132483, 132928, 132965, 132978, 133311, 133369, 133390, 133644, 133829, 134207, 134230, 134251, 134575, 135250, 135461, 135521, 135638, 136074, 136085, 136587, 136868, 136889, 137267, 137775, 138155, 138172, 138271, 138273, 138440]\n",
      "Bucket (3, 8080): Users [1, 45, 256, 635, 638, 645, 1288, 1297, 1586, 2163, 2356, 2640, 3113, 3121, 3347, 3752, 3921, 4057, 4214, 4301, 4771, 5060, 5166, 5335, 5545, 5657, 5731, 5897, 6025, 6386, 6414, 6656, 6727, 6803, 6966, 7330, 7453, 7463, 7889, 7894, 8112, 8253, 8417, 8505, 8577, 8615, 8707, 8725, 8786, 8870, 9051, 9095, 9180, 9208, 9244, 9431, 9732, 9768, 9877, 9911, 9933, 9949, 10138, 10369, 10487, 10617, 10801, 11026, 11030, 11144, 11242, 11352, 11428, 11477, 11598, 11856, 11914, 12124, 12292, 12512, 12533, 12682, 13002, 13570, 13615, 13735, 13817, 14003, 14031, 14223, 14247, 14408, 14470, 14471, 14647, 14669, 14841, 14882, 14885, 14944, 15039, 15093, 15169, 15306, 15649, 15726, 15819, 15870, 15929, 16133, 16201, 16275, 16441, 16704, 16750, 16925, 16946, 17022, 17494, 17868, 17911, 17929, 17988, 18104, 18311, 18560, 18770, 19042, 19489, 19518, 19753, 19766, 19864, 19884, 20117, 20121, 20134, 20139, 20479, 20750, 20903, 21106, 21344, 21498, 21622, 21668, 21859, 21881, 22370, 22429, 22579, 22923, 23079, 23375, 23472, 23627, 23641, 23856, 23870, 23903, 24158, 24514, 24618, 24715, 25033, 25616, 25692, 25782, 25885, 25899, 25903, 26178, 26255, 26311, 26372, 26424, 26444, 26506, 26948, 27003, 27337, 27342, 27712, 27940, 27969, 27990, 28605, 28729, 28753, 28900, 28909, 28954, 28964, 29341, 29391, 29471, 29569, 29805, 30279, 30419, 30481, 30620, 30815, 30829, 31023, 31069, 31240, 31386, 31428, 31581, 32076, 32081, 32233, 33301, 33390, 33544, 33546, 33638, 33687, 34023, 34078, 34083, 34343, 34653, 35092, 35154, 35601, 35604, 35630, 35643, 35836, 35970, 36242, 36265, 36427, 36514, 36570, 36673, 36871, 36900, 36925, 37016, 37324, 37353, 37390, 37650, 37655, 37684, 37767, 37913, 38114, 38127, 38131, 38547, 38721, 38803, 38859, 38867, 38889, 38961, 39262, 39283, 39287, 39291, 39714, 39815, 39863, 39925, 40600, 40646, 40712, 40798, 41003, 41060, 41090, 41329, 41372, 42043, 42199, 42497, 42946, 43221, 43345, 43699, 43714, 43752, 43895, 44195, 44279, 44297, 45227, 45389, 45469, 45511, 45645, 45728, 45748, 46109, 46203, 46258, 46315, 46339, 46465, 46680, 46837, 46944, 47562, 47767, 47840, 47866, 47891, 48097, 48114, 48335, 49287, 49488, 49553, 49673, 49714, 49794, 49798, 49818, 49824, 49927, 50055, 50085, 50184, 50337, 50432, 50742, 51217, 51424, 51464, 51560, 51574, 51597, 51688, 51746, 51894, 51898, 51945, 52057, 52410, 53010, 53072, 53087, 53652, 53793, 53945, 54287, 55064, 55134, 55261, 55344, 55489, 55584, 55990, 56183, 56209, 56345, 56440, 56519, 56581, 56609, 56774, 56887, 57248, 57257, 57308, 57363, 57700, 57744, 57747, 58128, 58188, 58220, 58294, 58476, 58604, 58650, 58738, 59027, 59078, 59454, 59584, 60349, 60357, 60373, 60442, 60473, 60533, 60640, 60724, 60995, 61014, 61300, 61356, 61379, 61416, 61447, 61670, 61930, 63047, 63058, 63078, 63180, 63190, 63425, 64124, 64503, 64685, 64839, 64841, 65179, 65641, 65798, 65824, 66002, 66060, 66061, 66137, 66206, 66282, 66575, 66594, 67033, 67246, 67786, 68522, 69050, 69125, 69174, 69176, 69559, 69929, 70859, 71106, 71135, 71173, 71175, 71504, 71586, 71637, 71826, 71974, 72168, 72188, 72320, 72546, 72711, 72742, 73343, 73416, 73514, 73628, 73913, 74193, 74265, 74293, 74484, 74600, 74604, 74762, 75112, 75406, 75695, 75854, 76115, 76153, 76229, 76681, 76762, 76768, 76800, 76845, 77106, 77360, 77398, 77626, 77748, 78144, 78403, 78563, 78628, 78742, 78879, 78902, 79100, 79264, 79320, 79326, 79730, 79776, 79833, 81298, 81390, 81651, 81914, 81937, 82242, 82417, 82556, 82687, 82897, 83086, 83247, 83359, 83428, 83762, 83820, 83912, 84270, 84287, 84392, 84513, 84613, 85050, 85126, 85399, 85436, 85514, 85895, 85909, 85942, 86035, 86091, 86143, 86367, 86376, 86539, 86572, 86639, 86986, 86995, 87002, 87088, 87163, 87371, 87607, 87821, 87885, 87931, 88724, 88779, 88912, 89160, 89186, 89288, 89294, 89406, 89706, 89812, 89831, 89924, 90183, 90309, 90371, 90421, 90491, 90528, 91110, 91573, 91580, 91640, 91945, 92040, 92152, 92431, 92554, 92710, 92791, 92794, 92970, 93012, 93107, 93523, 93784, 93940, 94005, 94231, 94332, 94684, 94806, 94823, 95258, 95759, 95867, 96048, 96172, 96213, 96481, 96860, 96871, 96989, 97029, 97295, 97639, 97719, 97723, 97760, 97772, 97822, 98098, 98555, 98719, 98753, 98793, 98813, 98876, 99169, 99486, 99615, 100216, 100359, 100491, 100527, 100602, 100693, 100836, 100908, 101120, 101346, 101478, 101548, 101791, 101837, 102355, 102431, 102482, 102622, 102638, 103033, 103052, 103092, 103285, 103660, 103671, 103762, 103791, 103998, 104337, 104376, 104381, 104559, 104596, 104816, 104881, 105258, 105299, 105478, 105561, 105611, 105613, 105757, 105917, 105940, 106091, 106179, 106772, 106774, 106894, 107016, 107020, 107333, 107388, 107405, 107608, 107623, 108096, 108559, 108845, 108971, 109353, 109467, 109781, 109790, 109934, 109973, 110375, 110378, 110452, 110871, 110909, 110980, 111226, 111251, 111399, 111624, 111643, 111808, 112005, 112280, 112753, 113316, 113499, 113646, 113861, 114211, 114255, 114260, 114627, 114700, 114748, 114813, 114939, 115107, 115251, 115320, 115444, 115688, 116039, 116106, 116220, 116653, 117133, 117627, 117664, 117874, 117951, 118261, 118537, 118569, 118625, 118733, 119010, 119172, 119688, 119691, 119805, 119932, 119974, 120063, 120136, 120180, 120348, 120490, 120622, 120752, 120951, 121143, 121447, 121652, 121830, 121845, 121882, 122404, 122874, 123036, 123151, 124333, 124616, 124695, 124784, 124889, 124895, 124920, 125015, 125027, 125068, 125214, 125435, 125497, 125603, 125928, 125947, 125997, 126010, 126017, 126114, 126202, 126328, 127452, 127646, 127675, 127885, 127954, 128187, 128302, 128445, 129120, 129239, 129507, 129585, 129724, 129874, 130009, 130109, 130122, 130127, 130224, 130254, 130357, 130412, 130447, 130475, 130832, 131389, 131455, 132023, 132123, 132175, 132323, 132483, 132928, 132965, 132978, 133311, 133369, 133390, 133644, 133829, 134207, 134230, 134251, 134575, 135250, 135461, 135521, 135638, 136074, 136085, 136587, 136868, 136889, 137267, 137775, 138155, 138172, 138271, 138273, 138440]\n",
      "Bucket (4, 8080): Users [1, 45, 256, 635, 638, 645, 1288, 1297, 1586, 2163, 2356, 2640, 3113, 3121, 3347, 3752, 3921, 4057, 4214, 4301, 4771, 5060, 5166, 5335, 5545, 5657, 5731, 5897, 6025, 6386, 6414, 6656, 6727, 6803, 6966, 7330, 7453, 7463, 7889, 7894, 8112, 8253, 8417, 8505, 8577, 8615, 8707, 8725, 8786, 8870, 9051, 9095, 9180, 9208, 9244, 9431, 9732, 9768, 9877, 9911, 9933, 9949, 10138, 10369, 10487, 10617, 10801, 11026, 11030, 11144, 11242, 11352, 11428, 11477, 11598, 11856, 11914, 12124, 12292, 12512, 12533, 12682, 13002, 13570, 13615, 13735, 13817, 14003, 14031, 14223, 14247, 14408, 14470, 14471, 14647, 14669, 14841, 14882, 14885, 14944, 15039, 15093, 15169, 15306, 15649, 15726, 15819, 15870, 15929, 16133, 16201, 16275, 16441, 16704, 16750, 16925, 16946, 17022, 17494, 17868, 17911, 17929, 17988, 18104, 18311, 18560, 18770, 19042, 19489, 19518, 19753, 19766, 19864, 19884, 20117, 20121, 20134, 20139, 20479, 20750, 20903, 21106, 21344, 21498, 21622, 21668, 21859, 21881, 22370, 22429, 22579, 22923, 23079, 23375, 23472, 23627, 23641, 23856, 23870, 23903, 24158, 24514, 24618, 24715, 25033, 25616, 25692, 25782, 25885, 25899, 25903, 26178, 26255, 26311, 26372, 26424, 26444, 26506, 26948, 27003, 27337, 27342, 27712, 27940, 27969, 27990, 28605, 28729, 28753, 28900, 28909, 28954, 28964, 29341, 29391, 29471, 29569, 29805, 30279, 30419, 30481, 30620, 30815, 30829, 31023, 31069, 31240, 31386, 31428, 31581, 32076, 32081, 32233, 33301, 33390, 33544, 33546, 33638, 33687, 34023, 34078, 34083, 34343, 34653, 35092, 35154, 35601, 35604, 35630, 35643, 35836, 35970, 36242, 36265, 36427, 36514, 36570, 36673, 36871, 36900, 36925, 37016, 37324, 37353, 37390, 37650, 37655, 37684, 37767, 37913, 38114, 38127, 38131, 38547, 38721, 38803, 38859, 38867, 38889, 38961, 39262, 39283, 39287, 39291, 39714, 39815, 39863, 39925, 40600, 40646, 40712, 40798, 41003, 41060, 41090, 41329, 41372, 42043, 42199, 42497, 42946, 43221, 43345, 43699, 43714, 43752, 43895, 44195, 44279, 44297, 45227, 45389, 45469, 45511, 45645, 45728, 45748, 46109, 46203, 46258, 46315, 46339, 46465, 46680, 46837, 46944, 47562, 47767, 47840, 47866, 47891, 48097, 48114, 48335, 49287, 49488, 49553, 49673, 49714, 49794, 49798, 49818, 49824, 49927, 50055, 50085, 50184, 50337, 50432, 50742, 51217, 51424, 51464, 51560, 51574, 51597, 51688, 51746, 51894, 51898, 51945, 52057, 52410, 53010, 53072, 53087, 53652, 53793, 53945, 54287, 55064, 55134, 55261, 55344, 55489, 55584, 55990, 56183, 56209, 56345, 56440, 56519, 56581, 56609, 56774, 56887, 57248, 57257, 57308, 57363, 57700, 57744, 57747, 58128, 58188, 58220, 58294, 58476, 58604, 58650, 58738, 59027, 59078, 59454, 59584, 60349, 60357, 60373, 60442, 60473, 60533, 60640, 60724, 60995, 61014, 61300, 61356, 61379, 61416, 61447, 61670, 61930, 63047, 63058, 63078, 63180, 63190, 63425, 64124, 64503, 64685, 64839, 64841, 65179, 65641, 65798, 65824, 66002, 66060, 66061, 66137, 66206, 66282, 66575, 66594, 67033, 67246, 67786, 68522, 69050, 69125, 69174, 69176, 69559, 69929, 70859, 71106, 71135, 71173, 71175, 71504, 71586, 71637, 71826, 71974, 72168, 72188, 72320, 72546, 72711, 72742, 73343, 73416, 73514, 73628, 73913, 74193, 74265, 74293, 74484, 74600, 74604, 74762, 75112, 75406, 75695, 75854, 76115, 76153, 76229, 76681, 76762, 76768, 76800, 76845, 77106, 77360, 77398, 77626, 77748, 78144, 78403, 78563, 78628, 78742, 78879, 78902, 79100, 79264, 79320, 79326, 79730, 79776, 79833, 81298, 81390, 81651, 81914, 81937, 82242, 82417, 82556, 82687, 82897, 83086, 83247, 83359, 83428, 83762, 83820, 83912, 84270, 84287, 84392, 84513, 84613, 85050, 85126, 85399, 85436, 85514, 85895, 85909, 85942, 86035, 86091, 86143, 86367, 86376, 86539, 86572, 86639, 86986, 86995, 87002, 87088, 87163, 87371, 87607, 87821, 87885, 87931, 88724, 88779, 88912, 89160, 89186, 89288, 89294, 89406, 89706, 89812, 89831, 89924, 90183, 90309, 90371, 90421, 90491, 90528, 91110, 91573, 91580, 91640, 91945, 92040, 92152, 92431, 92554, 92710, 92791, 92794, 92970, 93012, 93107, 93523, 93784, 93940, 94005, 94231, 94332, 94684, 94806, 94823, 95258, 95759, 95867, 96048, 96172, 96213, 96481, 96860, 96871, 96989, 97029, 97295, 97639, 97719, 97723, 97760, 97772, 97822, 98098, 98555, 98719, 98753, 98793, 98813, 98876, 99169, 99486, 99615, 100216, 100359, 100491, 100527, 100602, 100693, 100836, 100908, 101120, 101346, 101478, 101548, 101791, 101837, 102355, 102431, 102482, 102622, 102638, 103033, 103052, 103092, 103285, 103660, 103671, 103762, 103791, 103998, 104337, 104376, 104381, 104559, 104596, 104816, 104881, 105258, 105299, 105478, 105561, 105611, 105613, 105757, 105917, 105940, 106091, 106179, 106772, 106774, 106894, 107016, 107020, 107333, 107388, 107405, 107608, 107623, 108096, 108559, 108845, 108971, 109353, 109467, 109781, 109790, 109934, 109973, 110375, 110378, 110452, 110871, 110909, 110980, 111226, 111251, 111399, 111624, 111643, 111808, 112005, 112280, 112753, 113316, 113499, 113646, 113861, 114211, 114255, 114260, 114627, 114700, 114748, 114813, 114939, 115107, 115251, 115320, 115444, 115688, 116039, 116106, 116220, 116653, 117133, 117627, 117664, 117874, 117951, 118261, 118537, 118569, 118625, 118733, 119010, 119172, 119688, 119691, 119805, 119932, 119974, 120063, 120136, 120180, 120348, 120490, 120622, 120752, 120951, 121143, 121447, 121652, 121830, 121845, 121882, 122404, 122874, 123036, 123151, 124333, 124616, 124695, 124784, 124889, 124895, 124920, 125015, 125027, 125068, 125214, 125435, 125497, 125603, 125928, 125947, 125997, 126010, 126017, 126114, 126202, 126328, 127452, 127646, 127675, 127885, 127954, 128187, 128302, 128445, 129120, 129239, 129507, 129585, 129724, 129874, 130009, 130109, 130122, 130127, 130224, 130254, 130357, 130412, 130447, 130475, 130832, 131389, 131455, 132023, 132123, 132175, 132323, 132483, 132928, 132965, 132978, 133311, 133369, 133390, 133644, 133829, 134207, 134230, 134251, 134575, 135250, 135461, 135521, 135638, 136074, 136085, 136587, 136868, 136889, 137267, 137775, 138155, 138172, 138271, 138273, 138440]\n"
     ]
    }
   ],
   "source": [
    "def lsh_buckets(signatures, num_bands, rows_per_band, prime=10007):\n",
    "    \"\"\"\n",
    "    Divide MinHash signatures into bands and hash each band into buckets.\n",
    "    :param signatures: Dictionary of user MinHash signatures.\n",
    "    :param num_bands: Number of bands.\n",
    "    :param rows_per_band: Rows per band.\n",
    "    :param prime: Large prime number for hashing.\n",
    "    :return: Buckets containing users grouped by band hashes.\n",
    "    \"\"\"\n",
    "    from collections import defaultdict\n",
    "    \n",
    "    buckets = defaultdict(list)\n",
    "    for user, signature in signatures.items():\n",
    "        for band in range(num_bands):\n",
    "            start = band * rows_per_band\n",
    "            end = start + rows_per_band\n",
    "            band_hash = hash(tuple(signature[start:end])) % prime\n",
    "            buckets[(band, band_hash)].append(user)\n",
    "    \n",
    "    return buckets\n",
    "\n",
    "# Parameters for LSH\n",
    "num_bands = 5\n",
    "rows_per_band = len(sample_signatures[list(sample_signatures.keys())[0]]) // num_bands\n",
    "\n",
    "# Apply LSH on MinHash signatures\n",
    "lsh_buckets_output = lsh_buckets(user_signatures, num_bands, rows_per_band)\n",
    "print(\"Sample Buckets (first 5):\")\n",
    "for k, v in list(lsh_buckets_output.items())[:5]:\n",
    "    print(f\"Bucket {k}: Users {v}\")"
   ]
  },
  {
   "cell_type": "code",
   "execution_count": 22,
   "metadata": {},
   "outputs": [
    {
     "name": "stdout",
     "output_type": "stream",
     "text": [
      "Most similar users to User 1: [12292, 36871]\n"
     ]
    }
   ],
   "source": [
    "def find_similar_users(user_id, buckets, signatures):\n",
    "    \"\"\"\n",
    "    Find the two most similar users based on shared buckets.\n",
    "    :param user_id: Target user ID.\n",
    "    :param buckets: Buckets created by LSH.\n",
    "    :param signatures: MinHash signatures of all users.\n",
    "    :return: Two most similar users.\n",
    "    \"\"\"\n",
    "    similar_users = set()\n",
    "    target_signature = signatures[user_id]\n",
    "    \n",
    "    for band_hash, users in buckets.items():\n",
    "        if user_id in users:\n",
    "            similar_users.update(users)\n",
    "    \n",
    "    similar_users.discard(user_id)  # Remove the user itself\n",
    "    # Calculate similarity based on MinHash signatures\n",
    "    similarity = {\n",
    "        other_user: sum(1 for x, y in zip(target_signature, signatures[other_user]) if x == y) / len(target_signature)\n",
    "        for other_user in similar_users\n",
    "    }\n",
    "    # Sort by similarity score and return top 2\n",
    "    return sorted(similarity, key=similarity.get, reverse=True)[:2]\n",
    "\n",
    "# Example query\n",
    "target_user = list(user_signatures.keys())[0]\n",
    "similar_users = find_similar_users(target_user, lsh_buckets_output, user_signatures)\n",
    "print(f\"Most similar users to User {target_user}: {similar_users}\")"
   ]
  },
  {
   "cell_type": "code",
   "execution_count": 28,
   "metadata": {},
   "outputs": [
    {
     "name": "stdout",
     "output_type": "stream",
     "text": [
      "Recommended movies for User 1: ['Princess Bride, The (1987)', 'Fried Green Tomatoes (1991)', 'Fantasia (1940)', 'Good Will Hunting (1997)', 'Whale Rider (2002)']\n"
     ]
    }
   ],
   "source": [
    "def recommend_movies_from_merged(user_id, similar_users, merged_df, top_n=5):\n",
    "    \"\"\"\n",
    "    Recommend movies based on similar users' ratings using a merged dataset.\n",
    "    :param user_id: Target user ID.\n",
    "    :param similar_users: List of most similar users.\n",
    "    :param merged_df: Merged DataFrame containing userId, movieId, title, and rating.\n",
    "    :param top_n: Number of movies to recommend.\n",
    "    :return: List of recommended movie titles.\n",
    "    \"\"\"\n",
    "    # Movies already rated by the target user\n",
    "    user_rated_movies = set(merged_df[merged_df['userId'] == user_id]['movieId'])\n",
    "    recommendations = []\n",
    "\n",
    "    for similar_user in similar_users:\n",
    "        # Movies rated by the similar user\n",
    "        similar_user_movies = merged_df[merged_df['userId'] == similar_user]\n",
    "        # Exclude movies already rated by the target user\n",
    "        for _, row in similar_user_movies.iterrows():\n",
    "            if row['movieId'] not in user_rated_movies:\n",
    "                recommendations.append((row['movieId'], row['rating']))\n",
    "\n",
    "    # Sort recommendations by rating and select top N\n",
    "    recommendations = sorted(recommendations, key=lambda x: x[1], reverse=True)\n",
    "    top_recommendations = [movie_id for movie_id, _ in recommendations[:top_n]]\n",
    "\n",
    "    # Get movie titles from the merged dataset\n",
    "    movie_titles = df[df['movieId'].isin(top_recommendations)]['title'].unique().tolist()\n",
    "    return movie_titles\n",
    "\n",
    "# Example usage\n",
    "recommended_movies = recommend_movies_from_merged(target_user, similar_users, df)\n",
    "print(f\"Recommended movies for User {target_user}: {recommended_movies}\")\n"
   ]
  },
  {
   "cell_type": "code",
   "execution_count": null,
   "metadata": {},
   "outputs": [],
   "source": []
  }
 ],
 "metadata": {
  "kernelspec": {
   "display_name": "base",
   "language": "python",
   "name": "python3"
  },
  "language_info": {
   "codemirror_mode": {
    "name": "ipython",
    "version": 3
   },
   "file_extension": ".py",
   "mimetype": "text/x-python",
   "name": "python",
   "nbconvert_exporter": "python",
   "pygments_lexer": "ipython3",
   "version": "3.12.4"
  }
 },
 "nbformat": 4,
 "nbformat_minor": 2
}
